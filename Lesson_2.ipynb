{
 "cells": [
  {
   "cell_type": "code",
   "execution_count": 16,
   "metadata": {},
   "outputs": [],
   "source": [
    "import numpy as np\n",
    "from sympy import *"
   ]
  },
  {
   "cell_type": "markdown",
   "metadata": {},
   "source": [
    "__1.__ Вычислить определитель:\n",
    "\n",
    "   a)\n",
    "\n",
    "$$\\begin{vmatrix}\n",
    "sinx & -cosx\\\\ \n",
    "cosx & sinx\n",
    "\\end{vmatrix};$$\n",
    "\n",
    "Определитель $detA$ второго порядка,  матрицы $A$ определяется как\n",
    "\n",
    "$$detA=|A|=\\begin{vmatrix}\n",
    "a_{11} & a_{12}\\\\ \n",
    "a_{21} & a_{22}\n",
    "\\end{vmatrix}=a_{11}a_{22} - a_{12}a_{21}.$$\n",
    "\n",
    "$$detA=\\vert A\\vert=\\begin{vmatrix}sinx&-cosx\\\\cosx&sinx\\end{vmatrix}=sinx\\times sinx+cosx\\times cosx={sinx}^2+{cosx}^2=1.$$"
   ]
  },
  {
   "cell_type": "code",
   "execution_count": 17,
   "metadata": {},
   "outputs": [
    {
     "name": "stdout",
     "output_type": "stream",
     "text": [
      "Матрица:\n",
      "Matrix([[sin(x), -cos(x)], [cos(x), sin(x)]])\n",
      "Определитель:\n",
      "sin(x)**2 + cos(x)**2\n",
      "Определитель:\n",
      "1\n"
     ]
    }
   ],
   "source": [
    "x = symbols(\"x\")\n",
    "M = Matrix([[sin(x), -cos(x)], [cos(x), sin(x)]])\n",
    "a = M.det()\n",
    "\n",
    "print(f'Матрица:\\n{M}')\n",
    "print(f'Определитель:\\n{a}')\n",
    "print(f'Определитель:\\n{simplify(a)}')\n"
   ]
  },
  {
   "cell_type": "markdown",
   "metadata": {},
   "source": [
    "__2.__ Определитель матрицы $A$ равен $4$. Найти:\n",
    "\n",
    "   а) $det(A^{2})$;\n",
    "    \n",
    "   б) $det(A^{T})$;\n",
    "    \n",
    "   в) $det(2A)$."
   ]
  },
  {
   "cell_type": "markdown",
   "metadata": {},
   "source": [
    "а) Согласно свойству матриц, для двух квадратных матриц одинакового размера $det(AB)=detA\\cdot detB.$ Следовательно \n",
    "$$det(A^2)=det(AA)\\;=\\;det(A)det(A)=4\\times4=16$$\n",
    "\n",
    "б) Согласно свойству матриц, определитель транспонированной матрицы равен определителю исходной. Откуда $det(A^{T})=4$\n",
    "\n",
    "в) Согласно свойству матриц, умножение строки или столбца матрицы на число  𝜆  приведет к умножению определителя матрицы на то же число. Следовательно \n",
    "$$det(2A)=2\\times4=8$$"
   ]
  },
  {
   "cell_type": "markdown",
   "metadata": {},
   "source": [
    "   \n",
    "__3.__  Доказать, что матрица\n",
    "\n",
    "$$\\begin{pmatrix}\n",
    "-2 & 7 & -3\\\\ \n",
    "4 & -14 & 6\\\\ \n",
    "-3 & 7 & 13\n",
    "\\end{pmatrix}$$\n",
    "   \n",
    "вырожденная."
   ]
  },
  {
   "cell_type": "markdown",
   "metadata": {},
   "source": [
    "По определеию, матрица называется _сингулярной_, или _вырожденной_, если ее определитель равен нулю.\n",
    "\n",
    "Вычислим определитель заданной матрицы.\n",
    "\n",
    "$\\begin{pmatrix}-2&7&-3\\\\4&-14&6\\\\-3&7&13\\end{pmatrix}=-2\\begin{vmatrix}-14&6\\\\7&13\\end{vmatrix}-7\\begin{vmatrix}4&6\\\\-3&13\\end{vmatrix}-3\\begin{vmatrix}4&-14\\\\-3&7\\end{vmatrix}=-2\\cdot(-14\\cdot13-7\\cdot6)-7\\cdot(4\\cdot13+3\\cdot6)-3\\cdot(4\\cdot7-14\\cdot3)=448-490+42=0$\n",
    "\n",
    "Матрица является вырожденной."
   ]
  },
  {
   "cell_type": "code",
   "execution_count": 27,
   "metadata": {},
   "outputs": [
    {
     "name": "stdout",
     "output_type": "stream",
     "text": [
      "Матрица:\n",
      "[[ -2   7  -3]\n",
      " [  4 -14   6]\n",
      " [ -3   7  13]]\n",
      "Определитель:\n",
      "0\n"
     ]
    }
   ],
   "source": [
    "a = np.array([[-2, 7, -3], [4, -14, 6], [-3, 7, 13]])\n",
    "print(f'Матрица:\\n{a}')\n",
    "print(f'Определитель:\\n{np.linalg.det(a):.0f}')"
   ]
  },
  {
   "cell_type": "markdown",
   "metadata": {},
   "source": [
    "__4.__ Найти ранг матрицы:\n",
    "\n",
    "   а) $\\begin{pmatrix}\n",
    "1 & 2 & 3\\\\ \n",
    "1 & 1 & 1\\\\ \n",
    "2 & 3 & 4\n",
    "\\end{pmatrix};$\n",
    "\n",
    "   б) $\\begin{pmatrix}\n",
    "0 & 0 & 2 & 1\\\\ \n",
    "0 & 0 & 2 & 2\\\\ \n",
    "0 & 0 & 4 & 3\\\\ \n",
    "2 & 3 & 5 & 6\n",
    "\\end{pmatrix}.$"
   ]
  },
  {
   "cell_type": "code",
   "execution_count": 28,
   "metadata": {},
   "outputs": [
    {
     "name": "stdout",
     "output_type": "stream",
     "text": [
      "Ранг матрицы: 2\n"
     ]
    }
   ],
   "source": [
    "a = np.array([[1, 2, 3], [1, 1, 1], [2, 3, 4]])\n",
    "r = np.linalg.matrix_rank(a)\n",
    "print(f'Ранг матрицы: {r}')"
   ]
  },
  {
   "cell_type": "code",
   "execution_count": null,
   "metadata": {},
   "outputs": [],
   "source": [
    "4е задание еще буду даделовать"
   ]
  }
 ],
 "metadata": {
  "kernelspec": {
   "display_name": "Python 3",
   "language": "python",
   "name": "python3"
  },
  "language_info": {
   "codemirror_mode": {
    "name": "ipython",
    "version": 3
   },
   "file_extension": ".py",
   "mimetype": "text/x-python",
   "name": "python",
   "nbconvert_exporter": "python",
   "pygments_lexer": "ipython3",
   "version": "3.7.6"
  }
 },
 "nbformat": 4,
 "nbformat_minor": 4
}
